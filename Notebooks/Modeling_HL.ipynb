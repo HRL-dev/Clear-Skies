{
 "cells": [
  {
   "cell_type": "code",
   "execution_count": 82,
   "metadata": {
    "jupyter": {
     "source_hidden": true
    }
   },
   "outputs": [],
   "source": [
    "import pandas as pd\n",
    "import numpy as np\n",
    "import matplotlib.pyplot as plt\n",
    "import seaborn as sns\n",
    "\n",
    "from sklearn.model_selection import GridSearchCV, train_test_split, cross_val_score\n",
    "from sklearn.preprocessing import StandardScaler\n",
    "from sklearn.ensemble import RandomForestClassifier\n",
    "from sklearn.neighbors import KNeighborsClassifier\n",
    "\n",
    "from tensorflow.keras.models import Sequential\n",
    "from tensorflow.keras.layers import Dense, Dropout"
   ]
  },
  {
   "cell_type": "code",
   "execution_count": 89,
   "metadata": {},
   "outputs": [
    {
     "data": {
      "text/html": [
       "<div>\n",
       "<style scoped>\n",
       "    .dataframe tbody tr th:only-of-type {\n",
       "        vertical-align: middle;\n",
       "    }\n",
       "\n",
       "    .dataframe tbody tr th {\n",
       "        vertical-align: top;\n",
       "    }\n",
       "\n",
       "    .dataframe thead th {\n",
       "        text-align: right;\n",
       "    }\n",
       "</style>\n",
       "<table border=\"1\" class=\"dataframe\">\n",
       "  <thead>\n",
       "    <tr style=\"text-align: right;\">\n",
       "      <th></th>\n",
       "      <th>Unnamed: 0</th>\n",
       "      <th>investigation_type</th>\n",
       "      <th>injury_severity</th>\n",
       "      <th>aircraft_damage</th>\n",
       "      <th>make</th>\n",
       "      <th>model</th>\n",
       "      <th>weather_condition</th>\n",
       "      <th>broad_phase_of_flight</th>\n",
       "      <th>event_year</th>\n",
       "      <th>event_month</th>\n",
       "    </tr>\n",
       "  </thead>\n",
       "  <tbody>\n",
       "    <tr>\n",
       "      <th>0</th>\n",
       "      <td>0</td>\n",
       "      <td>Accident</td>\n",
       "      <td>0</td>\n",
       "      <td>Substantial</td>\n",
       "      <td>piper</td>\n",
       "      <td>PA-12</td>\n",
       "      <td>VMC</td>\n",
       "      <td>VMC</td>\n",
       "      <td>2007</td>\n",
       "      <td>12</td>\n",
       "    </tr>\n",
       "    <tr>\n",
       "      <th>1</th>\n",
       "      <td>3</td>\n",
       "      <td>Accident</td>\n",
       "      <td>1</td>\n",
       "      <td>Substantial</td>\n",
       "      <td>bell</td>\n",
       "      <td>206L-3</td>\n",
       "      <td>VMC</td>\n",
       "      <td>VMC</td>\n",
       "      <td>2007</td>\n",
       "      <td>12</td>\n",
       "    </tr>\n",
       "    <tr>\n",
       "      <th>2</th>\n",
       "      <td>6</td>\n",
       "      <td>Accident</td>\n",
       "      <td>0</td>\n",
       "      <td>Substantial</td>\n",
       "      <td>cessna</td>\n",
       "      <td>172F</td>\n",
       "      <td>VMC</td>\n",
       "      <td>VMC</td>\n",
       "      <td>2007</td>\n",
       "      <td>12</td>\n",
       "    </tr>\n",
       "    <tr>\n",
       "      <th>3</th>\n",
       "      <td>7</td>\n",
       "      <td>Accident</td>\n",
       "      <td>0</td>\n",
       "      <td>Substantial</td>\n",
       "      <td>piper</td>\n",
       "      <td>PA-46-310P</td>\n",
       "      <td>VMC</td>\n",
       "      <td>VMC</td>\n",
       "      <td>2007</td>\n",
       "      <td>12</td>\n",
       "    </tr>\n",
       "    <tr>\n",
       "      <th>4</th>\n",
       "      <td>8</td>\n",
       "      <td>Accident</td>\n",
       "      <td>1</td>\n",
       "      <td>Destroyed</td>\n",
       "      <td>bell</td>\n",
       "      <td>206L1</td>\n",
       "      <td>IMC</td>\n",
       "      <td>IMC</td>\n",
       "      <td>2007</td>\n",
       "      <td>12</td>\n",
       "    </tr>\n",
       "  </tbody>\n",
       "</table>\n",
       "</div>"
      ],
      "text/plain": [
       "   Unnamed: 0 investigation_type  injury_severity aircraft_damage    make  \\\n",
       "0           0           Accident                0     Substantial   piper   \n",
       "1           3           Accident                1     Substantial    bell   \n",
       "2           6           Accident                0     Substantial  cessna   \n",
       "3           7           Accident                0     Substantial   piper   \n",
       "4           8           Accident                1       Destroyed    bell   \n",
       "\n",
       "        model weather_condition broad_phase_of_flight  event_year  event_month  \n",
       "0       PA-12               VMC                   VMC        2007           12  \n",
       "1      206L-3               VMC                   VMC        2007           12  \n",
       "2        172F               VMC                   VMC        2007           12  \n",
       "3  PA-46-310P               VMC                   VMC        2007           12  \n",
       "4       206L1               IMC                   IMC        2007           12  "
      ]
     },
     "execution_count": 89,
     "metadata": {},
     "output_type": "execute_result"
    }
   ],
   "source": [
    "top_makes = pd.read_csv('./datasets/top_10_makes.csv')\n",
    "top_makes.head()"
   ]
  },
  {
   "cell_type": "code",
   "execution_count": 3,
   "metadata": {},
   "outputs": [
    {
     "data": {
      "text/plain": [
       "(110103, 10)"
      ]
     },
     "execution_count": 3,
     "metadata": {},
     "output_type": "execute_result"
    }
   ],
   "source": [
    "top_makes.shape"
   ]
  },
  {
   "cell_type": "code",
   "execution_count": 4,
   "metadata": {},
   "outputs": [
    {
     "data": {
      "text/plain": [
       "Unnamed: 0                int64\n",
       "investigation_type       object\n",
       "injury_severity           int64\n",
       "aircraft_damage          object\n",
       "make                     object\n",
       "model                    object\n",
       "weather_condition        object\n",
       "broad_phase_of_flight    object\n",
       "event_year                int64\n",
       "event_month               int64\n",
       "dtype: object"
      ]
     },
     "execution_count": 4,
     "metadata": {},
     "output_type": "execute_result"
    }
   ],
   "source": [
    "top_makes.dtypes"
   ]
  },
  {
   "cell_type": "code",
   "execution_count": 5,
   "metadata": {},
   "outputs": [
    {
     "data": {
      "text/html": [
       "<div>\n",
       "<style scoped>\n",
       "    .dataframe tbody tr th:only-of-type {\n",
       "        vertical-align: middle;\n",
       "    }\n",
       "\n",
       "    .dataframe tbody tr th {\n",
       "        vertical-align: top;\n",
       "    }\n",
       "\n",
       "    .dataframe thead th {\n",
       "        text-align: right;\n",
       "    }\n",
       "</style>\n",
       "<table border=\"1\" class=\"dataframe\">\n",
       "  <thead>\n",
       "    <tr style=\"text-align: right;\">\n",
       "      <th></th>\n",
       "      <th>Unnamed: 0</th>\n",
       "      <th>investigation_type</th>\n",
       "      <th>injury_severity</th>\n",
       "      <th>aircraft_damage</th>\n",
       "      <th>make</th>\n",
       "      <th>model</th>\n",
       "      <th>weather_condition</th>\n",
       "      <th>broad_phase_of_flight</th>\n",
       "      <th>event_year</th>\n",
       "      <th>event_month</th>\n",
       "    </tr>\n",
       "  </thead>\n",
       "  <tbody>\n",
       "    <tr>\n",
       "      <th>0</th>\n",
       "      <td>9</td>\n",
       "      <td>Accident</td>\n",
       "      <td>0</td>\n",
       "      <td>Substantial</td>\n",
       "      <td>cessna</td>\n",
       "      <td>172</td>\n",
       "      <td>VMC</td>\n",
       "      <td>VMC</td>\n",
       "      <td>2007</td>\n",
       "      <td>12</td>\n",
       "    </tr>\n",
       "    <tr>\n",
       "      <th>1</th>\n",
       "      <td>30</td>\n",
       "      <td>Accident</td>\n",
       "      <td>0</td>\n",
       "      <td>Substantial</td>\n",
       "      <td>cessna</td>\n",
       "      <td>182</td>\n",
       "      <td>VMC</td>\n",
       "      <td>VMC</td>\n",
       "      <td>2007</td>\n",
       "      <td>12</td>\n",
       "    </tr>\n",
       "    <tr>\n",
       "      <th>2</th>\n",
       "      <td>41</td>\n",
       "      <td>Accident</td>\n",
       "      <td>0</td>\n",
       "      <td>Substantial</td>\n",
       "      <td>cessna</td>\n",
       "      <td>152</td>\n",
       "      <td>VMC</td>\n",
       "      <td>VMC</td>\n",
       "      <td>2007</td>\n",
       "      <td>12</td>\n",
       "    </tr>\n",
       "    <tr>\n",
       "      <th>3</th>\n",
       "      <td>73</td>\n",
       "      <td>Accident</td>\n",
       "      <td>0</td>\n",
       "      <td>Substantial</td>\n",
       "      <td>cessna</td>\n",
       "      <td>172</td>\n",
       "      <td>VMC</td>\n",
       "      <td>VMC</td>\n",
       "      <td>2007</td>\n",
       "      <td>12</td>\n",
       "    </tr>\n",
       "    <tr>\n",
       "      <th>4</th>\n",
       "      <td>75</td>\n",
       "      <td>Accident</td>\n",
       "      <td>0</td>\n",
       "      <td>Substantial</td>\n",
       "      <td>cessna</td>\n",
       "      <td>182</td>\n",
       "      <td>VMC</td>\n",
       "      <td>VMC</td>\n",
       "      <td>2007</td>\n",
       "      <td>12</td>\n",
       "    </tr>\n",
       "  </tbody>\n",
       "</table>\n",
       "</div>"
      ],
      "text/plain": [
       "   Unnamed: 0 investigation_type  injury_severity aircraft_damage    make  \\\n",
       "0           9           Accident                0     Substantial  cessna   \n",
       "1          30           Accident                0     Substantial  cessna   \n",
       "2          41           Accident                0     Substantial  cessna   \n",
       "3          73           Accident                0     Substantial  cessna   \n",
       "4          75           Accident                0     Substantial  cessna   \n",
       "\n",
       "  model weather_condition broad_phase_of_flight  event_year  event_month  \n",
       "0   172               VMC                   VMC        2007           12  \n",
       "1   182               VMC                   VMC        2007           12  \n",
       "2   152               VMC                   VMC        2007           12  \n",
       "3   172               VMC                   VMC        2007           12  \n",
       "4   182               VMC                   VMC        2007           12  "
      ]
     },
     "execution_count": 5,
     "metadata": {},
     "output_type": "execute_result"
    }
   ],
   "source": [
    "top_models = pd.read_csv('./datasets/top_10_models.csv')\n",
    "top_models.head()"
   ]
  },
  {
   "cell_type": "code",
   "execution_count": 6,
   "metadata": {},
   "outputs": [
    {
     "data": {
      "text/plain": [
       "(29833, 10)"
      ]
     },
     "execution_count": 6,
     "metadata": {},
     "output_type": "execute_result"
    }
   ],
   "source": [
    "top_models.shape"
   ]
  },
  {
   "cell_type": "code",
   "execution_count": 7,
   "metadata": {},
   "outputs": [],
   "source": [
    "top_models = top_models.drop(columns = 'Unnamed: 0')"
   ]
  },
  {
   "cell_type": "code",
   "execution_count": 54,
   "metadata": {},
   "outputs": [],
   "source": [
    "y = top_models['model']\n",
    "X = top_models.drop(columns = 'model')"
   ]
  },
  {
   "cell_type": "code",
   "execution_count": 9,
   "metadata": {},
   "outputs": [
    {
     "data": {
      "text/plain": [
       "(29833,)"
      ]
     },
     "execution_count": 9,
     "metadata": {},
     "output_type": "execute_result"
    }
   ],
   "source": [
    "y.shape"
   ]
  },
  {
   "cell_type": "markdown",
   "metadata": {},
   "source": [
    "Let's look at our baseline accuracy:"
   ]
  },
  {
   "cell_type": "code",
   "execution_count": 55,
   "metadata": {},
   "outputs": [
    {
     "data": {
      "text/plain": [
       "PA-28    0.195790\n",
       "150      0.172125\n",
       "172      0.141286\n",
       "152      0.090236\n",
       "PA-22    0.080582\n",
       "182      0.078336\n",
       "PA-18    0.067174\n",
       "PA-24    0.066738\n",
       "180      0.055945\n",
       "PA-25    0.051788\n",
       "Name: model, dtype: float64"
      ]
     },
     "execution_count": 55,
     "metadata": {},
     "output_type": "execute_result"
    }
   ],
   "source": [
    "y.value_counts(normalize = True)"
   ]
  },
  {
   "cell_type": "markdown",
   "metadata": {},
   "source": [
    "So, in this particular multiclass model, the majority class is PA-28, and if we predicted PA-28 for every result, we would be right 19.58% of the time."
   ]
  },
  {
   "cell_type": "code",
   "execution_count": 11,
   "metadata": {},
   "outputs": [
    {
     "data": {
      "text/plain": [
       "(29833, 8)"
      ]
     },
     "execution_count": 11,
     "metadata": {},
     "output_type": "execute_result"
    }
   ],
   "source": [
    "X.shape"
   ]
  },
  {
   "cell_type": "markdown",
   "metadata": {},
   "source": [
    "I'm going to take a look at my 'broad_phase_of_flight' column:"
   ]
  },
  {
   "cell_type": "code",
   "execution_count": 56,
   "metadata": {},
   "outputs": [
    {
     "data": {
      "text/plain": [
       "Unknown    24312\n",
       "VMC         5274\n",
       "IMC          218\n",
       "UNK           29\n",
       "Name: broad_phase_of_flight, dtype: int64"
      ]
     },
     "execution_count": 56,
     "metadata": {},
     "output_type": "execute_result"
    }
   ],
   "source": [
    "X['broad_phase_of_flight'].value_counts()"
   ]
  },
  {
   "cell_type": "markdown",
   "metadata": {},
   "source": [
    "Okay, because I know 'UNK' is unknown, I'm going to shove that in with the other unknowns."
   ]
  },
  {
   "cell_type": "code",
   "execution_count": 57,
   "metadata": {},
   "outputs": [],
   "source": [
    "X['broad_phase_of_flight'] = X['broad_phase_of_flight'].map({'Unknown' : 'Unknown', 'VMC' : 'VMC',\n",
    "                                                            'IMC' : 'IMC', 'UNK' : 'Unknown'})"
   ]
  },
  {
   "cell_type": "code",
   "execution_count": 58,
   "metadata": {},
   "outputs": [
    {
     "data": {
      "text/plain": [
       "Unknown    24341\n",
       "VMC         5274\n",
       "IMC          218\n",
       "Name: broad_phase_of_flight, dtype: int64"
      ]
     },
     "execution_count": 58,
     "metadata": {},
     "output_type": "execute_result"
    }
   ],
   "source": [
    "X['broad_phase_of_flight'].value_counts()"
   ]
  },
  {
   "cell_type": "code",
   "execution_count": 59,
   "metadata": {},
   "outputs": [
    {
     "data": {
      "text/plain": [
       "0"
      ]
     },
     "execution_count": 59,
     "metadata": {},
     "output_type": "execute_result"
    }
   ],
   "source": [
    "X['broad_phase_of_flight'].isnull().sum()"
   ]
  },
  {
   "cell_type": "markdown",
   "metadata": {},
   "source": [
    "Okay, now that I have my variables in the condition I want them, I can train-test-split and start modeling."
   ]
  },
  {
   "cell_type": "code",
   "execution_count": 60,
   "metadata": {},
   "outputs": [],
   "source": [
    "X_train, X_test, y_train, y_test = train_test_split(X, y,\n",
    "                                                   random_state = 42)"
   ]
  },
  {
   "cell_type": "markdown",
   "metadata": {},
   "source": [
    "Because I still have a lot of object-type data, I'm going to dummify both of my variables."
   ]
  },
  {
   "cell_type": "code",
   "execution_count": 61,
   "metadata": {},
   "outputs": [],
   "source": [
    "X_train = pd.get_dummies(X_train)\n",
    "X_test = pd.get_dummies(X_test)\n",
    "\n",
    "y_train = pd.get_dummies(y_train)\n",
    "y_test = pd.get_dummies(y_test)"
   ]
  },
  {
   "cell_type": "markdown",
   "metadata": {},
   "source": [
    "Let's check out the shapes to make sure they align:"
   ]
  },
  {
   "cell_type": "code",
   "execution_count": 20,
   "metadata": {},
   "outputs": [
    {
     "data": {
      "text/plain": [
       "(22374, 19)"
      ]
     },
     "execution_count": 20,
     "metadata": {},
     "output_type": "execute_result"
    }
   ],
   "source": [
    "X_train.shape"
   ]
  },
  {
   "cell_type": "code",
   "execution_count": 22,
   "metadata": {},
   "outputs": [
    {
     "data": {
      "text/plain": [
       "(7459, 19)"
      ]
     },
     "execution_count": 22,
     "metadata": {},
     "output_type": "execute_result"
    }
   ],
   "source": [
    "X_test.shape"
   ]
  },
  {
   "cell_type": "code",
   "execution_count": 21,
   "metadata": {},
   "outputs": [
    {
     "data": {
      "text/plain": [
       "(22374, 10)"
      ]
     },
     "execution_count": 21,
     "metadata": {},
     "output_type": "execute_result"
    }
   ],
   "source": [
    "y_train.shape"
   ]
  },
  {
   "cell_type": "code",
   "execution_count": 23,
   "metadata": {},
   "outputs": [
    {
     "data": {
      "text/plain": [
       "(7459, 10)"
      ]
     },
     "execution_count": 23,
     "metadata": {},
     "output_type": "execute_result"
    }
   ],
   "source": [
    "y_test.shape"
   ]
  },
  {
   "cell_type": "markdown",
   "metadata": {},
   "source": [
    "Great. So, now we can scale the data."
   ]
  },
  {
   "cell_type": "code",
   "execution_count": 62,
   "metadata": {},
   "outputs": [],
   "source": [
    "sc = StandardScaler()\n",
    "\n",
    "X_train_sc = sc.fit_transform(X_train)\n",
    "X_test_sc = sc.transform(X_test)"
   ]
  },
  {
   "cell_type": "markdown",
   "metadata": {},
   "source": [
    "Great, we're ready to go. The first model I'll try is a neural network with one hidden layer:"
   ]
  },
  {
   "cell_type": "code",
   "execution_count": 32,
   "metadata": {},
   "outputs": [],
   "source": [
    "model = Sequential()\n",
    "\n",
    "model.add(Dense(19,\n",
    "               activation = 'relu',\n",
    "               input_shape = (19,)))\n",
    "\n",
    "model.add(Dense(16,\n",
    "               activation = 'relu'))\n",
    "\n",
    "\n",
    "model.add(Dense(10,\n",
    "               activation = 'softmax'))"
   ]
  },
  {
   "cell_type": "code",
   "execution_count": 33,
   "metadata": {},
   "outputs": [],
   "source": [
    "model.compile(optimizer = 'adam',\n",
    "             metrics = ['accuracy'],\n",
    "             loss = 'categorical_crossentropy')"
   ]
  },
  {
   "cell_type": "code",
   "execution_count": 35,
   "metadata": {},
   "outputs": [
    {
     "name": "stdout",
     "output_type": "stream",
     "text": [
      "Epoch 1/20\n",
      "700/700 [==============================] - 2s 3ms/step - loss: 1.3654 - accuracy: 0.4366 - val_loss: 1.3748 - val_accuracy: 0.4242\n",
      "Epoch 2/20\n",
      "700/700 [==============================] - 2s 3ms/step - loss: 1.3653 - accuracy: 0.4359 - val_loss: 1.3720 - val_accuracy: 0.4241\n",
      "Epoch 3/20\n",
      "700/700 [==============================] - 2s 2ms/step - loss: 1.3635 - accuracy: 0.4361 - val_loss: 1.3747 - val_accuracy: 0.4259\n",
      "Epoch 4/20\n",
      "700/700 [==============================] - 2s 2ms/step - loss: 1.3629 - accuracy: 0.4369 - val_loss: 1.3723 - val_accuracy: 0.4246\n",
      "Epoch 5/20\n",
      "700/700 [==============================] - 2s 2ms/step - loss: 1.3620 - accuracy: 0.4367 - val_loss: 1.3767 - val_accuracy: 0.4253\n",
      "Epoch 6/20\n",
      "700/700 [==============================] - 2s 2ms/step - loss: 1.3630 - accuracy: 0.4367 - val_loss: 1.3720 - val_accuracy: 0.4253\n",
      "Epoch 7/20\n",
      "700/700 [==============================] - 2s 2ms/step - loss: 1.3616 - accuracy: 0.4354 - val_loss: 1.3763 - val_accuracy: 0.4257\n",
      "Epoch 8/20\n",
      "700/700 [==============================] - 2s 2ms/step - loss: 1.3609 - accuracy: 0.4370 - val_loss: 1.3724 - val_accuracy: 0.4279\n",
      "Epoch 9/20\n",
      "700/700 [==============================] - 2s 2ms/step - loss: 1.3616 - accuracy: 0.4374 - val_loss: 1.3721 - val_accuracy: 0.4223\n",
      "Epoch 10/20\n",
      "700/700 [==============================] - 2s 2ms/step - loss: 1.3609 - accuracy: 0.4381 - val_loss: 1.3719 - val_accuracy: 0.4238\n",
      "Epoch 11/20\n",
      "700/700 [==============================] - 2s 2ms/step - loss: 1.3605 - accuracy: 0.4398 - val_loss: 1.3706 - val_accuracy: 0.4273\n",
      "Epoch 12/20\n",
      "700/700 [==============================] - 2s 2ms/step - loss: 1.3601 - accuracy: 0.4380 - val_loss: 1.3701 - val_accuracy: 0.4301\n",
      "Epoch 13/20\n",
      "700/700 [==============================] - 2s 2ms/step - loss: 1.3600 - accuracy: 0.4372 - val_loss: 1.3698 - val_accuracy: 0.4267\n",
      "Epoch 14/20\n",
      "700/700 [==============================] - 2s 2ms/step - loss: 1.3598 - accuracy: 0.4389 - val_loss: 1.3732 - val_accuracy: 0.4254\n",
      "Epoch 15/20\n",
      "700/700 [==============================] - 2s 2ms/step - loss: 1.3593 - accuracy: 0.4377 - val_loss: 1.3736 - val_accuracy: 0.4219\n",
      "Epoch 16/20\n",
      "700/700 [==============================] - 2s 2ms/step - loss: 1.3588 - accuracy: 0.4383 - val_loss: 1.3736 - val_accuracy: 0.4236\n",
      "Epoch 17/20\n",
      "700/700 [==============================] - 2s 2ms/step - loss: 1.3586 - accuracy: 0.4390 - val_loss: 1.3733 - val_accuracy: 0.4269\n",
      "Epoch 18/20\n",
      "700/700 [==============================] - 2s 2ms/step - loss: 1.3585 - accuracy: 0.4384 - val_loss: 1.3716 - val_accuracy: 0.4249\n",
      "Epoch 19/20\n",
      "700/700 [==============================] - 3s 5ms/step - loss: 1.3587 - accuracy: 0.4386 - val_loss: 1.3735 - val_accuracy: 0.4253\n",
      "Epoch 20/20\n",
      "700/700 [==============================] - 2s 3ms/step - loss: 1.3583 - accuracy: 0.4370 - val_loss: 1.3706 - val_accuracy: 0.4287\n"
     ]
    }
   ],
   "source": [
    "res = model.fit(X_train_sc, y_train,\n",
    "                epochs = 20,\n",
    "                validation_data = (X_test_sc, y_test),\n",
    "                verbose = 1)"
   ]
  },
  {
   "cell_type": "markdown",
   "metadata": {},
   "source": [
    "Okay, so we have a validation accuracy of 42.87%, which isn't great, but is a significant improvement on our baseline accuracy of 19.58%. Next, I'm going to try a Random Forest model to see if it performs better on this particular data."
   ]
  },
  {
   "cell_type": "markdown",
   "metadata": {},
   "source": [
    "In order to run my Random Forest model, I need to have a one-column y variable. Let's make that:"
   ]
  },
  {
   "cell_type": "code",
   "execution_count": 37,
   "metadata": {},
   "outputs": [],
   "source": [
    "y_rf = top_models.model"
   ]
  },
  {
   "cell_type": "code",
   "execution_count": 39,
   "metadata": {},
   "outputs": [
    {
     "data": {
      "text/plain": [
       "PA-28    5841\n",
       "150      5135\n",
       "172      4215\n",
       "152      2692\n",
       "PA-22    2404\n",
       "182      2337\n",
       "PA-18    2004\n",
       "PA-24    1991\n",
       "180      1669\n",
       "PA-25    1545\n",
       "Name: model, dtype: int64"
      ]
     },
     "execution_count": 39,
     "metadata": {},
     "output_type": "execute_result"
    }
   ],
   "source": [
    "y_rf.value_counts()"
   ]
  },
  {
   "cell_type": "code",
   "execution_count": null,
   "metadata": {},
   "outputs": [],
   "source": [
    "y_rf = y_rf.map({'PA-28' : 1, '150' : 2, '172' : 3,\n",
    "                '152' : 4, 'PA-22' : 5, '182' : 6, \n",
    "                'PA-18' : 7, 'PA-24' : 8, '180' : 9,\n",
    "                'PA-25' : 10})"
   ]
  },
  {
   "cell_type": "code",
   "execution_count": 41,
   "metadata": {},
   "outputs": [
    {
     "data": {
      "text/plain": [
       "1     5841\n",
       "2     5135\n",
       "3     4215\n",
       "4     2692\n",
       "5     2404\n",
       "6     2337\n",
       "7     2004\n",
       "8     1991\n",
       "9     1669\n",
       "10    1545\n",
       "Name: model, dtype: int64"
      ]
     },
     "execution_count": 41,
     "metadata": {},
     "output_type": "execute_result"
    }
   ],
   "source": [
    "y_rf.value_counts()"
   ]
  },
  {
   "cell_type": "code",
   "execution_count": 73,
   "metadata": {},
   "outputs": [],
   "source": [
    "X_train, X_test, y_train, y_test = train_test_split(X, y_rf,\n",
    "                                                   random_state = 42)"
   ]
  },
  {
   "cell_type": "code",
   "execution_count": 74,
   "metadata": {},
   "outputs": [],
   "source": [
    "X_train = pd.get_dummies(X_train)\n",
    "X_test = pd.get_dummies(X_test)"
   ]
  },
  {
   "cell_type": "code",
   "execution_count": 75,
   "metadata": {},
   "outputs": [],
   "source": [
    "sc = StandardScaler()\n",
    "\n",
    "X_train_sc = sc.fit_transform(X_train)\n",
    "X_test_sc = sc.transform(X_test)"
   ]
  },
  {
   "cell_type": "markdown",
   "metadata": {},
   "source": [
    "Okay, so now that the variables are split, dummified, and scaled, we can instantiate and fit the Random Forest model. I'm going to gridsearch over the model with a variety of parameters to see which end up giving the best score."
   ]
  },
  {
   "cell_type": "code",
   "execution_count": 46,
   "metadata": {},
   "outputs": [],
   "source": [
    "rf = RandomForestClassifier(random_state = 42)"
   ]
  },
  {
   "cell_type": "code",
   "execution_count": 50,
   "metadata": {},
   "outputs": [
    {
     "name": "stdout",
     "output_type": "stream",
     "text": [
      "0.4379189307307523\n"
     ]
    },
    {
     "data": {
      "text/plain": [
       "{'max_depth': 5, 'max_features': None, 'n_estimators': 75}"
      ]
     },
     "execution_count": 50,
     "metadata": {},
     "output_type": "execute_result"
    }
   ],
   "source": [
    "params = {\n",
    "    'n_estimators' : [70, 75, 100],\n",
    "    'max_features' : [None, 'auto'],\n",
    "    'max_depth' : [None, 5, 6]\n",
    "}\n",
    "\n",
    "gs = GridSearchCV(rf, param_grid = params, n_jobs = -2)\n",
    "gs.fit(X_train, y_train)\n",
    "print(gs.best_score_) # cross val score\n",
    "gs.best_params_"
   ]
  },
  {
   "cell_type": "markdown",
   "metadata": {},
   "source": [
    "Okay! So after all that, not a significantly-improved score. But there is SOME improvement! We now have our model correctly predicting 43.79 percent of the time. "
   ]
  },
  {
   "cell_type": "code",
   "execution_count": 103,
   "metadata": {},
   "outputs": [],
   "source": [
    "preds = gs.predict(X_test)"
   ]
  },
  {
   "cell_type": "code",
   "execution_count": 113,
   "metadata": {},
   "outputs": [],
   "source": [
    "preds = pd.DataFrame(preds, columns = ['predictions'])"
   ]
  },
  {
   "cell_type": "code",
   "execution_count": 115,
   "metadata": {},
   "outputs": [
    {
     "data": {
      "text/plain": [
       "1    0.413326\n",
       "2    0.298029\n",
       "4    0.177638\n",
       "3    0.050811\n",
       "7    0.028690\n",
       "5    0.027618\n",
       "6    0.003888\n",
       "Name: predictions, dtype: float64"
      ]
     },
     "execution_count": 115,
     "metadata": {},
     "output_type": "execute_result"
    }
   ],
   "source": [
    "preds.predictions.value_counts(normalize = True)"
   ]
  },
  {
   "cell_type": "markdown",
   "metadata": {},
   "source": [
    "So, here we can see that the Random Forest model predicts that "
   ]
  }
 ],
 "metadata": {
  "kernelspec": {
   "display_name": "Python 3",
   "language": "python",
   "name": "python3"
  },
  "language_info": {
   "codemirror_mode": {
    "name": "ipython",
    "version": 3
   },
   "file_extension": ".py",
   "mimetype": "text/x-python",
   "name": "python",
   "nbconvert_exporter": "python",
   "pygments_lexer": "ipython3",
   "version": "3.8.3"
  }
 },
 "nbformat": 4,
 "nbformat_minor": 4
}
